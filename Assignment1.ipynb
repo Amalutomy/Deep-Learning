{
  "nbformat": 4,
  "nbformat_minor": 0,
  "metadata": {
    "colab": {
      "provenance": []
    },
    "kernelspec": {
      "name": "python3",
      "display_name": "Python 3"
    },
    "language_info": {
      "name": "python"
    }
  },
  "cells": [
    {
      "cell_type": "code",
      "execution_count": 93,
      "metadata": {
        "id": "11lKrSEzg865",
        "colab": {
          "base_uri": "https://localhost:8080/"
        },
        "outputId": "6615114d-d467-4a1b-bb3b-dc3e5b899035"
      },
      "outputs": [
        {
          "output_type": "stream",
          "name": "stdout",
          "text": [
            "Drive already mounted at /content/drive; to attempt to forcibly remount, call drive.mount(\"/content/drive\", force_remount=True).\n"
          ]
        }
      ],
      "source": [
        "from google.colab import drive\n",
        "drive.mount('/content/drive')"
      ]
    },
    {
      "cell_type": "code",
      "source": [
        "import torch\n",
        "import torch.nn as nn\n",
        "import torch.optim as optim\n",
        "from sklearn.datasets import load_svmlight_file\n",
        "from sklearn.model_selection import train_test_split\n",
        "import numpy as np\n",
        "from sklearn.metrics import confusion_matrix, classification_report\n",
        "import matplotlib.pyplot as plt\n",
        "import seaborn as sns\n",
        "from torch.utils.data import DataLoader, TensorDataset"
      ],
      "metadata": {
        "id": "eIptig8RhjZK"
      },
      "execution_count": 94,
      "outputs": []
    },
    {
      "cell_type": "code",
      "source": [
        "#!pip install scikit-learn"
      ],
      "metadata": {
        "id": "F72tt0K-jZA2"
      },
      "execution_count": 95,
      "outputs": []
    },
    {
      "cell_type": "code",
      "source": [
        "# Load the dataset (LibSVM format)\n",
        "data_path = '/content/drive/MyDrive/Colab Notebooks/diabetes_scale.txt'\n",
        "X, y = load_svmlight_file(data_path)\n",
        "X = X.toarray()\n",
        "\n",
        "# Convert labels from {-1, 1} to {0, 1} format for binary classification\n",
        "y = np.where(y == -1, 0, 1)\n",
        "\n",
        "# Split the dataset into training and testing sets\n",
        "X_train, X_test, y_train, y_test = train_test_split(X, y, test_size=0.2, random_state=42)\n"
      ],
      "metadata": {
        "id": "OYVx0Q4xpZAi"
      },
      "execution_count": 96,
      "outputs": []
    },
    {
      "cell_type": "code",
      "source": [
        "# Convert data to PyTorch tensors\n",
        "X_train_tensor = torch.tensor(X_train, dtype=torch.float32)\n",
        "y_train_tensor = torch.tensor(y_train, dtype=torch.float32).unsqueeze(1)  # Add an extra dimension for binary output\n",
        "X_test_tensor = torch.tensor(X_test, dtype=torch.float32)\n",
        "y_test_tensor = torch.tensor(y_test, dtype=torch.float32).unsqueeze(1)"
      ],
      "metadata": {
        "id": "VcGx_16quhwH"
      },
      "execution_count": 97,
      "outputs": []
    },
    {
      "cell_type": "code",
      "source": [
        "class SingleLayerPerceptron(nn.Module):\n",
        "    def __init__(self, input_size):\n",
        "        super(SingleLayerPerceptron, self).__init__()\n",
        "        self.fc = nn.Linear(input_size, 1)\n",
        "\n",
        "    # Apply the linear transformation and sigmoid activation\n",
        "    def forward(self, x):\n",
        "        x = torch.sigmoid(self.fc(x))\n",
        "        return x\n",
        "\n",
        "# Initialize the model\n",
        "input_size = X_train.shape[1]  # Number of features\n",
        "model = SingleLayerPerceptron(input_size)\n"
      ],
      "metadata": {
        "id": "ngvAaSBCpl62"
      },
      "execution_count": 98,
      "outputs": []
    },
    {
      "cell_type": "code",
      "source": [
        "# Define loss function and optimizer\n",
        "criterion = nn.BCELoss()  # Binary Cross-Entropy Loss\n",
        "optimizer = optim.Adam(model.parameters(), lr=0.001)  # Adam optimizer\n",
        "\n",
        "# Training parameters\n",
        "epochs = 100\n",
        "\n",
        "# Training loop\n",
        "for epoch in range(epochs):\n",
        "    model.train()\n",
        "    optimizer.zero_grad()\n",
        "    predictions = model(X_train_tensor)\n",
        "    loss = criterion(predictions, y_train_tensor)\n",
        "    loss.backward()\n",
        "    optimizer.step()\n",
        "\n",
        "    # Print loss every 10 epochs\n",
        "    if (epoch+1) % 10 == 0:\n",
        "        print(f'Epoch [{epoch+1}/{epochs}], Loss: {loss.item():.4f}')\n"
      ],
      "metadata": {
        "colab": {
          "base_uri": "https://localhost:8080/"
        },
        "id": "qJPru1-NpnZP",
        "outputId": "ac9063e0-e45e-4308-e262-d34e8b454a36"
      },
      "execution_count": 99,
      "outputs": [
        {
          "output_type": "stream",
          "name": "stdout",
          "text": [
            "Epoch [10/100], Loss: 0.6757\n",
            "Epoch [20/100], Loss: 0.6676\n",
            "Epoch [30/100], Loss: 0.6600\n",
            "Epoch [40/100], Loss: 0.6531\n",
            "Epoch [50/100], Loss: 0.6467\n",
            "Epoch [60/100], Loss: 0.6408\n",
            "Epoch [70/100], Loss: 0.6355\n",
            "Epoch [80/100], Loss: 0.6306\n",
            "Epoch [90/100], Loss: 0.6262\n",
            "Epoch [100/100], Loss: 0.6221\n"
          ]
        }
      ]
    },
    {
      "cell_type": "code",
      "source": [
        "# Model Evaluation\n",
        "model.eval()\n",
        "with torch.no_grad():\n",
        "    test_predictions = model(X_test_tensor)\n",
        "    test_predictions = test_predictions.round()\n",
        "\n",
        "    # accuracy\n",
        "    accuracy = (test_predictions.eq(y_test_tensor).sum() / y_test_tensor.shape[0]).item()\n",
        "    print(f'Test Accuracy: {accuracy * 100:.2f}% \\n')\n",
        "\n",
        "    # Confusion Matrix\n",
        "    cm = confusion_matrix(y_test, test_predictions.numpy())\n",
        "\n",
        "    plt.figure(figsize=(8, 6))\n",
        "    sns.heatmap(cm, annot=True, fmt='d', cmap='Blues',\n",
        "                xticklabels=['Not Diabetic', 'Diabetic'],\n",
        "                yticklabels=['Not Diabetic', 'Diabetic'])\n",
        "    plt.title('Confusion Matrix')\n",
        "    plt.xlabel('Predicted')\n",
        "    plt.ylabel('True')\n",
        "    plt.show()\n",
        "\n",
        "    # classification report\n",
        "    test_predictions_np = test_predictions.numpy()  # Convert predictions to NumPy array\n",
        "    print(\"\\nClassification Report:\\n\", classification_report(y_test, test_predictions_np))\n"
      ],
      "metadata": {
        "colab": {
          "base_uri": "https://localhost:8080/",
          "height": 804
        },
        "id": "HjCR6T4SptAW",
        "outputId": "927fa622-0783-4948-bacd-87ade8fdb59f"
      },
      "execution_count": 100,
      "outputs": [
        {
          "output_type": "stream",
          "name": "stdout",
          "text": [
            "Test Accuracy: 62.34% \n",
            "\n"
          ]
        },
        {
          "output_type": "display_data",
          "data": {
            "text/plain": [
              "<Figure size 800x600 with 2 Axes>"
            ],
            "image/png": "[encoded data removed]"
          },
          "metadata": {}
        },
        {
          "output_type": "stream",
          "name": "stdout",
          "text": [
            "\n",
            "Classification Report:\n",
            "               precision    recall  f1-score   support\n",
            "\n",
            "           0       0.42      0.15      0.22        55\n",
            "           1       0.65      0.89      0.75        99\n",
            "\n",
            "    accuracy                           0.62       154\n",
            "   macro avg       0.54      0.52      0.48       154\n",
            "weighted avg       0.57      0.62      0.56       154\n",
            "\n"
          ]
        }
      ]
    },
    {
      "cell_type": "markdown",
      "source": [
        "**Improve performance By mini-batch training**"
      ],
      "metadata": {
        "id": "k21NLJUix9kA"
      }
    },
    {
      "cell_type": "code",
      "source": [
        "\n",
        "# Create TensorDataset and DataLoader for mini-batch training\n",
        "train_dataset = TensorDataset(X_train_tensor, y_train_tensor)\n",
        "train_loader = DataLoader(train_dataset, batch_size=32, shuffle=True)\n",
        "\n",
        "# Training loop with mini-batches\n",
        "for epoch in range(epochs):\n",
        "    model.train()\n",
        "    for batch_X, batch_y in train_loader:\n",
        "        optimizer.zero_grad()\n",
        "        predictions = model(batch_X)\n",
        "        loss = criterion(predictions, batch_y)\n",
        "        loss.backward()\n",
        "        optimizer.step()\n",
        "\n",
        "    # Print loss every 10 epochs\n",
        "    if (epoch + 1) % 10 == 0:\n",
        "        print(f'Epoch [{epoch + 1}/{epochs}], Loss: {loss.item():.4f}')\n"
      ],
      "metadata": {
        "colab": {
          "base_uri": "https://localhost:8080/"
        },
        "id": "dLx48zE7tLpW",
        "outputId": "16515a0d-c035-4296-8baf-157587b8546a"
      },
      "execution_count": 101,
      "outputs": [
        {
          "output_type": "stream",
          "name": "stdout",
          "text": [
            "Epoch [10/100], Loss: 0.4912\n",
            "Epoch [20/100], Loss: 0.8552\n",
            "Epoch [30/100], Loss: 0.6560\n",
            "Epoch [40/100], Loss: 0.4720\n",
            "Epoch [50/100], Loss: 0.4581\n",
            "Epoch [60/100], Loss: 0.3617\n",
            "Epoch [70/100], Loss: 0.4974\n",
            "Epoch [80/100], Loss: 0.4673\n",
            "Epoch [90/100], Loss: 0.8943\n",
            "Epoch [100/100], Loss: 0.2095\n"
          ]
        }
      ]
    },
    {
      "cell_type": "code",
      "source": [
        "\n",
        "# Evaluate the model\n",
        "model.eval()\n",
        "with torch.no_grad():\n",
        "    test_predictions = model(X_test_tensor)\n",
        "    test_predictions = test_predictions.round()\n",
        "\n",
        "    # accuracy\n",
        "    accuracy = (test_predictions.eq(y_test_tensor).sum() / y_test_tensor.shape[0]).item()\n",
        "    print(f'Test Accuracy: {accuracy * 100:.2f}% \\n')\n",
        "\n",
        "    # Confusion Matrix\n",
        "    cm = confusion_matrix(y_test, test_predictions.numpy())\n",
        "    sns.heatmap(cm, annot=True, fmt='d', cmap='Blues')\n",
        "    plt.title('Confusion Matrix')\n",
        "    plt.xlabel('Predicted')\n",
        "    plt.ylabel('True')\n",
        "    plt.show()\n",
        "\n",
        "    # Classification Report\n",
        "    report = classification_report(y_test, test_predictions.numpy())\n",
        "    print(\"Classification Report:\\n\", report)\n"
      ],
      "metadata": {
        "colab": {
          "base_uri": "https://localhost:8080/",
          "height": 693
        },
        "id": "ZYOc1gVwv2xM",
        "outputId": "e197ef2e-f4c2-478e-89de-f5f5f53c11d2"
      },
      "execution_count": 102,
      "outputs": [
        {
          "output_type": "stream",
          "name": "stdout",
          "text": [
            "Test Accuracy: 74.68% \n",
            "\n"
          ]
        },
        {
          "output_type": "display_data",
          "data": {
            "text/plain": [
              "<Figure size 640x480 with 2 Axes>"
            ],
            "image/png": "[encoded data removed]"
          },
          "metadata": {}
        },
        {
          "output_type": "stream",
          "name": "stdout",
          "text": [
            "Classification Report:\n",
            "               precision    recall  f1-score   support\n",
            "\n",
            "           0       0.70      0.51      0.59        55\n",
            "           1       0.76      0.88      0.82        99\n",
            "\n",
            "    accuracy                           0.75       154\n",
            "   macro avg       0.73      0.69      0.70       154\n",
            "weighted avg       0.74      0.75      0.74       154\n",
            "\n"
          ]
        }
      ]
    }
  ]
}